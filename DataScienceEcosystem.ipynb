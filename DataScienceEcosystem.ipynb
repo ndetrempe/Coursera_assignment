{
 "cells": [
  {
   "cell_type": "markdown",
   "id": "8f28afa5-dac8-452b-bace-ed5c34494f7b",
   "metadata": {},
   "source": [
    "# Data Science Tools and Ecosystem"
   ]
  },
  {
   "cell_type": "markdown",
   "id": "bea726ba-df59-47e2-987b-cec1a95f0ce7",
   "metadata": {},
   "source": [
    "In this notebook, Data Science Tools and Ecosystem are summarized."
   ]
  },
  {
   "cell_type": "markdown",
   "id": "c72cab4a-632d-46c4-be92-8effa6cafb9e",
   "metadata": {},
   "source": [
    "**Objectives:**\n",
    "\n",
    "* List Popular languages used in data science.\n",
    "* List common libraries used in data science.\n",
    "* List common tools used in data science.\n",
    "* Provide examples of basic Python coding"
   ]
  },
  {
   "cell_type": "markdown",
   "id": "d6930b8e-0e62-457f-92a8-329bfc3d65c9",
   "metadata": {},
   "source": [
    "Some of the popular languages that Data Scientists use are:\n",
    "\n",
    "1. Python\n",
    "2. R\n",
    "3. Java"
   ]
  },
  {
   "cell_type": "markdown",
   "id": "18b80bc9-3085-4d3d-a656-d65b6290b113",
   "metadata": {},
   "source": [
    "Some of the commonly used libraries used by Data Scientists include:\n",
    "\n",
    "1. numpy\n",
    "2. matplotlib\n",
    "3. pandas"
   ]
  },
  {
   "cell_type": "markdown",
   "id": "63b25213-dec8-4d3b-b044-dd74d3c16ac4",
   "metadata": {},
   "source": [
    "|Data Science Tools|\n",
    "--------------------\n",
    "|Jupyter|\n",
    "|RStudio|\n",
    "|VS Code|\n",
    "|GitHub|"
   ]
  },
  {
   "cell_type": "markdown",
   "id": "1d7f961d-5836-43c4-9b59-41852d09a18f",
   "metadata": {
    "tags": []
   },
   "source": [
    "### Below are a few examples of evaluating arithmetic expressions in Python"
   ]
  },
  {
   "cell_type": "code",
   "execution_count": 3,
   "id": "8e0fb6ed-c3b6-47dc-a78b-9f95a57e747e",
   "metadata": {
    "tags": []
   },
   "outputs": [
    {
     "data": {
      "text/plain": [
       "17"
      ]
     },
     "execution_count": 3,
     "metadata": {},
     "output_type": "execute_result"
    }
   ],
   "source": [
    "# This a simple arithmetic expression to mutiply then add integers\n",
    "\n",
    "(3*4)+5"
   ]
  },
  {
   "cell_type": "code",
   "execution_count": 4,
   "id": "4170db40-ffb4-44b4-8122-c8b8afb49003",
   "metadata": {
    "tags": []
   },
   "outputs": [
    {
     "data": {
      "text/plain": [
       "3.3333333333333335"
      ]
     },
     "execution_count": 4,
     "metadata": {},
     "output_type": "execute_result"
    }
   ],
   "source": [
    "# This will convert 200 minutes to hours by diving by 60\n",
    "\n",
    "200/60"
   ]
  },
  {
   "cell_type": "markdown",
   "id": "eb238d8f-2513-44fd-98f8-7c5485d98c34",
   "metadata": {},
   "source": [
    "## Author\n",
    "\n",
    "Nick DeTrempe"
   ]
  },
  {
   "cell_type": "code",
   "execution_count": null,
   "id": "d1832085-b451-4877-a9eb-241b8a2f1db8",
   "metadata": {},
   "outputs": [],
   "source": []
  }
 ],
 "metadata": {
  "kernelspec": {
   "display_name": "Python",
   "language": "python",
   "name": "conda-env-python-py"
  },
  "language_info": {
   "codemirror_mode": {
    "name": "ipython",
    "version": 3
   },
   "file_extension": ".py",
   "mimetype": "text/x-python",
   "name": "python",
   "nbconvert_exporter": "python",
   "pygments_lexer": "ipython3",
   "version": "3.7.12"
  }
 },
 "nbformat": 4,
 "nbformat_minor": 5
}
